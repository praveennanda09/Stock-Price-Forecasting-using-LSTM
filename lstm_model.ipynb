{
 "cells": [
  {
   "cell_type": "code",
   "execution_count": 1,
   "id": "51959df5",
   "metadata": {},
   "outputs": [
    {
     "name": "stderr",
     "output_type": "stream",
     "text": [
      "C:\\Users\\rohit\\AppData\\Local\\Temp\\ipykernel_5444\\2808809213.py:5: FutureWarning: The pandas.datetime class is deprecated and will be removed from pandas in a future version. Import from datetime module instead.\n",
      "  from pandas import datetime\n"
     ]
    }
   ],
   "source": [
    "\n",
    "import numpy as np \n",
    "import pandas as pd \n",
    "import matplotlib.pyplot as plt\n",
    "%matplotlib inline\n",
    "from pandas import datetime\n",
    "import math, time\n",
    "import itertools\n",
    "from sklearn import preprocessing\n",
    "import datetime\n",
    "from operator import itemgetter\n",
    "from sklearn.preprocessing import MinMaxScaler\n",
    "from sklearn.metrics import mean_squared_error\n",
    "from math import sqrt\n",
    "from keras.models import Sequential\n",
    "from keras.layers import LSTM, Dense, Dropout, Activation\n",
    "#from keras.layers.recurrent import LSTM\n",
    "from keras.models import load_model\n",
    "import keras\n",
    "import h5py\n",
    "import requests"
   ]
  },
  {
   "cell_type": "code",
   "execution_count": null,
   "id": "5a0b7d40",
   "metadata": {},
   "outputs": [],
   "source": []
  },
  {
   "cell_type": "markdown",
   "id": "1f0d4717",
   "metadata": {},
   "source": [
    "# Step 1: Read and explore the data"
   ]
  },
  {
   "cell_type": "code",
   "execution_count": 3,
   "id": "fe3966e2",
   "metadata": {},
   "outputs": [
    {
     "data": {
      "text/html": [
       "<div>\n",
       "<style scoped>\n",
       "    .dataframe tbody tr th:only-of-type {\n",
       "        vertical-align: middle;\n",
       "    }\n",
       "\n",
       "    .dataframe tbody tr th {\n",
       "        vertical-align: top;\n",
       "    }\n",
       "\n",
       "    .dataframe thead th {\n",
       "        text-align: right;\n",
       "    }\n",
       "</style>\n",
       "<table border=\"1\" class=\"dataframe\">\n",
       "  <thead>\n",
       "    <tr style=\"text-align: right;\">\n",
       "      <th></th>\n",
       "      <th>symbol</th>\n",
       "      <th>open</th>\n",
       "      <th>close</th>\n",
       "      <th>low</th>\n",
       "      <th>high</th>\n",
       "      <th>volume</th>\n",
       "    </tr>\n",
       "    <tr>\n",
       "      <th>date</th>\n",
       "      <th></th>\n",
       "      <th></th>\n",
       "      <th></th>\n",
       "      <th></th>\n",
       "      <th></th>\n",
       "      <th></th>\n",
       "    </tr>\n",
       "  </thead>\n",
       "  <tbody>\n",
       "    <tr>\n",
       "      <th>2016-01-05</th>\n",
       "      <td>WLTW</td>\n",
       "      <td>123.430000</td>\n",
       "      <td>125.839996</td>\n",
       "      <td>122.309998</td>\n",
       "      <td>126.250000</td>\n",
       "      <td>2163600.0</td>\n",
       "    </tr>\n",
       "    <tr>\n",
       "      <th>2016-01-06</th>\n",
       "      <td>WLTW</td>\n",
       "      <td>125.239998</td>\n",
       "      <td>119.980003</td>\n",
       "      <td>119.940002</td>\n",
       "      <td>125.540001</td>\n",
       "      <td>2386400.0</td>\n",
       "    </tr>\n",
       "    <tr>\n",
       "      <th>2016-01-07</th>\n",
       "      <td>WLTW</td>\n",
       "      <td>116.379997</td>\n",
       "      <td>114.949997</td>\n",
       "      <td>114.930000</td>\n",
       "      <td>119.739998</td>\n",
       "      <td>2489500.0</td>\n",
       "    </tr>\n",
       "    <tr>\n",
       "      <th>2016-01-08</th>\n",
       "      <td>WLTW</td>\n",
       "      <td>115.480003</td>\n",
       "      <td>116.620003</td>\n",
       "      <td>113.500000</td>\n",
       "      <td>117.440002</td>\n",
       "      <td>2006300.0</td>\n",
       "    </tr>\n",
       "    <tr>\n",
       "      <th>2016-01-11</th>\n",
       "      <td>WLTW</td>\n",
       "      <td>117.010002</td>\n",
       "      <td>114.970001</td>\n",
       "      <td>114.089996</td>\n",
       "      <td>117.330002</td>\n",
       "      <td>1408600.0</td>\n",
       "    </tr>\n",
       "  </tbody>\n",
       "</table>\n",
       "</div>"
      ],
      "text/plain": [
       "           symbol        open       close         low        high     volume\n",
       "date                                                                        \n",
       "2016-01-05   WLTW  123.430000  125.839996  122.309998  126.250000  2163600.0\n",
       "2016-01-06   WLTW  125.239998  119.980003  119.940002  125.540001  2386400.0\n",
       "2016-01-07   WLTW  116.379997  114.949997  114.930000  119.739998  2489500.0\n",
       "2016-01-08   WLTW  115.480003  116.620003  113.500000  117.440002  2006300.0\n",
       "2016-01-11   WLTW  117.010002  114.970001  114.089996  117.330002  1408600.0"
      ]
     },
     "execution_count": 3,
     "metadata": {},
     "output_type": "execute_result"
    }
   ],
   "source": [
    "df =  pd.read_csv(\"prices_split_adjusted.csv\", index_col = 0)\n",
    "df.head()"
   ]
  },
  {
   "cell_type": "code",
   "execution_count": 4,
   "id": "6053b35f",
   "metadata": {},
   "outputs": [
    {
     "name": "stderr",
     "output_type": "stream",
     "text": [
      "C:\\Users\\rohit\\AppData\\Local\\Temp\\ipykernel_5444\\2979656906.py:2: FutureWarning: In a future version of pandas all arguments of DataFrame.drop except for the argument 'labels' will be keyword-only.\n",
      "  df.drop(['symbol'],1,inplace=True)\n"
     ]
    },
    {
     "data": {
      "text/html": [
       "<div>\n",
       "<style scoped>\n",
       "    .dataframe tbody tr th:only-of-type {\n",
       "        vertical-align: middle;\n",
       "    }\n",
       "\n",
       "    .dataframe tbody tr th {\n",
       "        vertical-align: top;\n",
       "    }\n",
       "\n",
       "    .dataframe thead th {\n",
       "        text-align: right;\n",
       "    }\n",
       "</style>\n",
       "<table border=\"1\" class=\"dataframe\">\n",
       "  <thead>\n",
       "    <tr style=\"text-align: right;\">\n",
       "      <th></th>\n",
       "      <th>open</th>\n",
       "      <th>close</th>\n",
       "      <th>low</th>\n",
       "      <th>high</th>\n",
       "      <th>volume</th>\n",
       "    </tr>\n",
       "    <tr>\n",
       "      <th>date</th>\n",
       "      <th></th>\n",
       "      <th></th>\n",
       "      <th></th>\n",
       "      <th></th>\n",
       "      <th></th>\n",
       "    </tr>\n",
       "  </thead>\n",
       "  <tbody>\n",
       "    <tr>\n",
       "      <th>2010-01-04</th>\n",
       "      <td>30.490000</td>\n",
       "      <td>30.572857</td>\n",
       "      <td>30.340000</td>\n",
       "      <td>30.642857</td>\n",
       "      <td>123432400.0</td>\n",
       "    </tr>\n",
       "    <tr>\n",
       "      <th>2010-01-05</th>\n",
       "      <td>30.657143</td>\n",
       "      <td>30.625713</td>\n",
       "      <td>30.464285</td>\n",
       "      <td>30.798571</td>\n",
       "      <td>150476200.0</td>\n",
       "    </tr>\n",
       "    <tr>\n",
       "      <th>2010-01-06</th>\n",
       "      <td>30.625713</td>\n",
       "      <td>30.138571</td>\n",
       "      <td>30.107143</td>\n",
       "      <td>30.747143</td>\n",
       "      <td>138040000.0</td>\n",
       "    </tr>\n",
       "    <tr>\n",
       "      <th>2010-01-07</th>\n",
       "      <td>30.250000</td>\n",
       "      <td>30.082857</td>\n",
       "      <td>29.864286</td>\n",
       "      <td>30.285715</td>\n",
       "      <td>119282800.0</td>\n",
       "    </tr>\n",
       "    <tr>\n",
       "      <th>2010-01-08</th>\n",
       "      <td>30.042856</td>\n",
       "      <td>30.282858</td>\n",
       "      <td>29.865715</td>\n",
       "      <td>30.285715</td>\n",
       "      <td>111902700.0</td>\n",
       "    </tr>\n",
       "  </tbody>\n",
       "</table>\n",
       "</div>"
      ],
      "text/plain": [
       "                 open      close        low       high       volume\n",
       "date                                                               \n",
       "2010-01-04  30.490000  30.572857  30.340000  30.642857  123432400.0\n",
       "2010-01-05  30.657143  30.625713  30.464285  30.798571  150476200.0\n",
       "2010-01-06  30.625713  30.138571  30.107143  30.747143  138040000.0\n",
       "2010-01-07  30.250000  30.082857  29.864286  30.285715  119282800.0\n",
       "2010-01-08  30.042856  30.282858  29.865715  30.285715  111902700.0"
      ]
     },
     "execution_count": 4,
     "metadata": {},
     "output_type": "execute_result"
    }
   ],
   "source": [
    "# Selecting apple stock for price prediction\n",
    "df = df[df.symbol == 'AAPL']\n",
    "df.drop(['symbol'],1,inplace=True)\n",
    "df.head()"
   ]
  },
  {
   "cell_type": "code",
   "execution_count": 5,
   "id": "a84b6f83",
   "metadata": {},
   "outputs": [
    {
     "name": "stdout",
     "output_type": "stream",
     "text": [
      "<class 'pandas.core.frame.DataFrame'>\n",
      "Index: 1762 entries, 2010-01-04 to 2016-12-30\n",
      "Data columns (total 5 columns):\n",
      " #   Column  Non-Null Count  Dtype  \n",
      "---  ------  --------------  -----  \n",
      " 0   open    1762 non-null   float64\n",
      " 1   close   1762 non-null   float64\n",
      " 2   low     1762 non-null   float64\n",
      " 3   high    1762 non-null   float64\n",
      " 4   volume  1762 non-null   float64\n",
      "dtypes: float64(5)\n",
      "memory usage: 82.6+ KB\n"
     ]
    }
   ],
   "source": [
    "df.info()"
   ]
  },
  {
   "cell_type": "code",
   "execution_count": 6,
   "id": "27e00191",
   "metadata": {},
   "outputs": [
    {
     "data": {
      "image/png": "[encoded data removed]",
      "text/plain": [
       "<Figure size 640x480 with 1 Axes>"
      ]
     },
     "metadata": {},
     "output_type": "display_data"
    }
   ],
   "source": [
    "plt.plot(df.index, df['close'])\n",
    "plt.xticks(range(0, len(list(df.index)), 100), list(df.index)[::100], rotation=90)\n",
    "plt.show()"
   ]
  },
  {
   "cell_type": "code",
   "execution_count": 7,
   "id": "341d03f2",
   "metadata": {},
   "outputs": [
    {
     "data": {
      "text/html": [
       "<div>\n",
       "<style scoped>\n",
       "    .dataframe tbody tr th:only-of-type {\n",
       "        vertical-align: middle;\n",
       "    }\n",
       "\n",
       "    .dataframe tbody tr th {\n",
       "        vertical-align: top;\n",
       "    }\n",
       "\n",
       "    .dataframe thead th {\n",
       "        text-align: right;\n",
       "    }\n",
       "</style>\n",
       "<table border=\"1\" class=\"dataframe\">\n",
       "  <thead>\n",
       "    <tr style=\"text-align: right;\">\n",
       "      <th></th>\n",
       "      <th>open</th>\n",
       "      <th>close</th>\n",
       "      <th>low</th>\n",
       "      <th>high</th>\n",
       "      <th>volume</th>\n",
       "      <th>date</th>\n",
       "    </tr>\n",
       "    <tr>\n",
       "      <th>date</th>\n",
       "      <th></th>\n",
       "      <th></th>\n",
       "      <th></th>\n",
       "      <th></th>\n",
       "      <th></th>\n",
       "      <th></th>\n",
       "    </tr>\n",
       "  </thead>\n",
       "  <tbody>\n",
       "    <tr>\n",
       "      <th>2010-01-04</th>\n",
       "      <td>30.490000</td>\n",
       "      <td>30.572857</td>\n",
       "      <td>30.340000</td>\n",
       "      <td>30.642857</td>\n",
       "      <td>123432400.0</td>\n",
       "      <td>2010-01-04</td>\n",
       "    </tr>\n",
       "    <tr>\n",
       "      <th>2010-01-05</th>\n",
       "      <td>30.657143</td>\n",
       "      <td>30.625713</td>\n",
       "      <td>30.464285</td>\n",
       "      <td>30.798571</td>\n",
       "      <td>150476200.0</td>\n",
       "      <td>2010-01-05</td>\n",
       "    </tr>\n",
       "    <tr>\n",
       "      <th>2010-01-06</th>\n",
       "      <td>30.625713</td>\n",
       "      <td>30.138571</td>\n",
       "      <td>30.107143</td>\n",
       "      <td>30.747143</td>\n",
       "      <td>138040000.0</td>\n",
       "      <td>2010-01-06</td>\n",
       "    </tr>\n",
       "    <tr>\n",
       "      <th>2010-01-07</th>\n",
       "      <td>30.250000</td>\n",
       "      <td>30.082857</td>\n",
       "      <td>29.864286</td>\n",
       "      <td>30.285715</td>\n",
       "      <td>119282800.0</td>\n",
       "      <td>2010-01-07</td>\n",
       "    </tr>\n",
       "    <tr>\n",
       "      <th>2010-01-08</th>\n",
       "      <td>30.042856</td>\n",
       "      <td>30.282858</td>\n",
       "      <td>29.865715</td>\n",
       "      <td>30.285715</td>\n",
       "      <td>111902700.0</td>\n",
       "      <td>2010-01-08</td>\n",
       "    </tr>\n",
       "  </tbody>\n",
       "</table>\n",
       "</div>"
      ],
      "text/plain": [
       "                 open      close        low       high       volume       date\n",
       "date                                                                          \n",
       "2010-01-04  30.490000  30.572857  30.340000  30.642857  123432400.0 2010-01-04\n",
       "2010-01-05  30.657143  30.625713  30.464285  30.798571  150476200.0 2010-01-05\n",
       "2010-01-06  30.625713  30.138571  30.107143  30.747143  138040000.0 2010-01-06\n",
       "2010-01-07  30.250000  30.082857  29.864286  30.285715  119282800.0 2010-01-07\n",
       "2010-01-08  30.042856  30.282858  29.865715  30.285715  111902700.0 2010-01-08"
      ]
     },
     "execution_count": 7,
     "metadata": {},
     "output_type": "execute_result"
    }
   ],
   "source": [
    "df['date'] = df.index\n",
    "df['date'] = pd.to_datetime(df['date'])\n",
    "df.head()"
   ]
  },
  {
   "cell_type": "markdown",
   "id": "9e77ec33",
   "metadata": {},
   "source": [
    "# Step 2: Scale the data"
   ]
  },
  {
   "cell_type": "code",
   "execution_count": 93,
   "id": "6f4d6818",
   "metadata": {},
   "outputs": [],
   "source": [
    "# Scaling the data\n",
    "min_max_scaler = preprocessing.MinMaxScaler(feature_range=(0, 1))\n",
    "y_scaler = preprocessing.MinMaxScaler(feature_range=(0, 1))\n",
    "\n",
    "dataset = min_max_scaler.fit_transform(df[['open','low','high','volume']])\n",
    "y_scaled = y_scaler.fit_transform(df[['close']])\n",
    "dataset = np.concatenate((dataset, y_scaled), axis=1)\n"
   ]
  },
  {
   "cell_type": "code",
   "execution_count": 94,
   "id": "8873c205",
   "metadata": {},
   "outputs": [
    {
     "data": {
      "text/plain": [
       "array([[0.02812312, 0.03033377, 0.02480624, 0.24403431, 0.02971784],\n",
       "       [0.02968552, 0.03152627, 0.02626779, 0.30298234, 0.03021854],\n",
       "       [0.02939173, 0.02809952, 0.02578509, 0.27587485, 0.02560389],\n",
       "       [0.02587968, 0.02576932, 0.02145406, 0.23498933, 0.02507612],\n",
       "       [0.02394337, 0.02578302, 0.02145406, 0.21890274, 0.0269707 ],\n",
       "       [0.02728183, 0.02494689, 0.02279493, 0.22686898, 0.02444008],\n",
       "       [0.0224611 , 0.02216434, 0.01846388, 0.29892522, 0.02120576],\n",
       "       [0.02069841, 0.0189843 , 0.0200193 , 0.30515509, 0.02517085],\n",
       "       [0.02368966, 0.02572819, 0.01938909, 0.2108831 , 0.02351986],\n",
       "       [0.02478467, 0.02141046, 0.02091769, 0.29871161, 0.0187834 ]])"
      ]
     },
     "execution_count": 94,
     "metadata": {},
     "output_type": "execute_result"
    }
   ],
   "source": [
    "dataset[0:10]"
   ]
  },
  {
   "cell_type": "code",
   "execution_count": 95,
   "id": "defcbf60",
   "metadata": {},
   "outputs": [
    {
     "data": {
      "text/plain": [
       "(1762, 5)"
      ]
     },
     "execution_count": 95,
     "metadata": {},
     "output_type": "execute_result"
    }
   ],
   "source": [
    "dataset.shape"
   ]
  },
  {
   "cell_type": "code",
   "execution_count": null,
   "id": "7fe7f8ee",
   "metadata": {},
   "outputs": [],
   "source": []
  },
  {
   "cell_type": "markdown",
   "id": "0d58e318",
   "metadata": {},
   "source": [
    "# Step 3: Train test split data"
   ]
  },
  {
   "cell_type": "code",
   "execution_count": 96,
   "id": "9ac942d9",
   "metadata": {},
   "outputs": [
    {
     "name": "stdout",
     "output_type": "stream",
     "text": [
      "1233 529\n"
     ]
    }
   ],
   "source": [
    "# split into train and test sets\n",
    "train_size = int(len(dataset) * 0.7)\n",
    "test_size = len(dataset) - train_size\n",
    "train, test = dataset[0:train_size,:], dataset[train_size:len(dataset),:]\n",
    "print(len(train), len(test))"
   ]
  },
  {
   "cell_type": "code",
   "execution_count": 97,
   "id": "ea3d544a",
   "metadata": {},
   "outputs": [
    {
     "data": {
      "text/plain": [
       "array([[0.02812312, 0.03033377, 0.02480624, 0.24403431, 0.02971784],\n",
       "       [0.02968552, 0.03152627, 0.02626779, 0.30298234, 0.03021854],\n",
       "       [0.02939173, 0.02809952, 0.02578509, 0.27587485, 0.02560389],\n",
       "       ...,\n",
       "       [0.81725311, 0.84120351, 0.834053  , 0.06957593, 0.84189727],\n",
       "       [0.84155702, 0.85252557, 0.84071716, 0.09962082, 0.84341296],\n",
       "       [0.83538752, 0.85818663, 0.8519805 , 0.07841537, 0.86387439]])"
      ]
     },
     "execution_count": 97,
     "metadata": {},
     "output_type": "execute_result"
    }
   ],
   "source": [
    "train"
   ]
  },
  {
   "cell_type": "code",
   "execution_count": null,
   "id": "43adeb71",
   "metadata": {},
   "outputs": [],
   "source": []
  },
  {
   "cell_type": "markdown",
   "id": "69672a3f",
   "metadata": {},
   "source": [
    "# Step 4: Create data of sequences for LSTM"
   ]
  },
  {
   "cell_type": "code",
   "execution_count": 129,
   "id": "16b37857",
   "metadata": {},
   "outputs": [],
   "source": [
    "def create_sequences(dataset, look_back=15):\n",
    "    dataX, dataY = [], []\n",
    "    for i in range(len(dataset)-look_back-1):\n",
    "        a = dataset[i:(i+look_back), :]\n",
    "        dataX.append(a)\n",
    "        dataY.append(dataset[i + look_back, 4]) # column with index 4 is close value which we want to predict\n",
    "    return np.array(dataX), np.array(dataY)"
   ]
  },
  {
   "cell_type": "code",
   "execution_count": 130,
   "id": "cd8a7dfb",
   "metadata": {},
   "outputs": [],
   "source": [
    "x_train, y_train = create_sequences(train, look_back=15)\n",
    "x_test, y_test = create_sequences(test, look_back=15)"
   ]
  },
  {
   "cell_type": "code",
   "execution_count": 131,
   "id": "da0d614b",
   "metadata": {},
   "outputs": [
    {
     "name": "stdout",
     "output_type": "stream",
     "text": [
      "(1217, 15, 5)\n",
      "(1217,)\n",
      "(513, 15, 5)\n",
      "(513,)\n"
     ]
    }
   ],
   "source": [
    "print(x_train.shape)\n",
    "print(y_train.shape)\n",
    "print(x_test.shape)\n",
    "print(y_test.shape)"
   ]
  },
  {
   "cell_type": "code",
   "execution_count": 61,
   "id": "ae067e77",
   "metadata": {},
   "outputs": [],
   "source": [
    "#The LSTM network expects the input data (X) to be provided with a specific array structure in the form of: \n",
    "#    [samples, time steps, features].\n",
    "\n",
    "#Currently, this data is in the form: [samples, features] and we are framing the problem as one time step for each sample.\n",
    "#We can transform the prepared train and test input data into the expected structure using numpy.reshape() as follows:\n",
    "# you can also use x_train = np.reshape(x_train, (x_train.shape[0], 3, 5)) as input. \n",
    "# This becomes a case where 3 time steps are considered along with 5 look back examples for each time step\n",
    "\n",
    "#It's recommended to experiment with different time_step values and observe the model's performance on a validation set \n",
    "# to determine the most suitable value for your specific time series prediction task.\n"
   ]
  },
  {
   "cell_type": "code",
   "execution_count": null,
   "id": "eb0ea388",
   "metadata": {},
   "outputs": [],
   "source": []
  },
  {
   "cell_type": "markdown",
   "id": "9bc04971",
   "metadata": {},
   "source": [
    "# Step 5: Create and fit the LSTM network"
   ]
  },
  {
   "cell_type": "code",
   "execution_count": 133,
   "id": "11db004a",
   "metadata": {},
   "outputs": [
    {
     "name": "stdout",
     "output_type": "stream",
     "text": [
      "Model: \"sequential_5\"\n",
      "_________________________________________________________________\n",
      " Layer (type)                Output Shape              Param #   \n",
      "=================================================================\n",
      " lstm_5 (LSTM)               (None, 10)                640       \n",
      "                                                                 \n",
      " dense_5 (Dense)             (None, 1)                 11        \n",
      "                                                                 \n",
      "=================================================================\n",
      "Total params: 651 (2.54 KB)\n",
      "Trainable params: 651 (2.54 KB)\n",
      "Non-trainable params: 0 (0.00 Byte)\n",
      "_________________________________________________________________\n"
     ]
    }
   ],
   "source": [
    "\n",
    "\n",
    "model = Sequential()\n",
    "model.add(LSTM(10, input_shape=(15, 5))) # hyperbolic tangent (tanh) activation function used by default\n",
    "model.add(Dense(1)) # linear activation function is used by default\n",
    "model.compile(loss='mean_squared_error', optimizer='adam')\n",
    "#'adam' is a popular optimization algorithm that adapts the learning rates of each parameter individually, \n",
    "#making it well-suited for a wide range of tasks. Adam is an extension of stochastic gradient descent (SGD) \n",
    "#and is known for its efficiency in training deep neural networks.\n",
    "model.summary()"
   ]
  },
  {
   "cell_type": "code",
   "execution_count": 134,
   "id": "a255165a",
   "metadata": {},
   "outputs": [
    {
     "name": "stdout",
     "output_type": "stream",
     "text": [
      "Epoch 1/20\n",
      "122/122 - 2s - loss: 0.0398 - 2s/epoch - 17ms/step\n",
      "Epoch 2/20\n",
      "122/122 - 0s - loss: 5.7768e-04 - 499ms/epoch - 4ms/step\n",
      "Epoch 3/20\n",
      "122/122 - 0s - loss: 4.0412e-04 - 451ms/epoch - 4ms/step\n",
      "Epoch 4/20\n",
      "122/122 - 0s - loss: 3.8345e-04 - 471ms/epoch - 4ms/step\n",
      "Epoch 5/20\n",
      "122/122 - 0s - loss: 3.5592e-04 - 472ms/epoch - 4ms/step\n",
      "Epoch 6/20\n",
      "122/122 - 1s - loss: 3.3361e-04 - 502ms/epoch - 4ms/step\n",
      "Epoch 7/20\n",
      "122/122 - 0s - loss: 3.1329e-04 - 488ms/epoch - 4ms/step\n",
      "Epoch 8/20\n",
      "122/122 - 0s - loss: 2.9438e-04 - 466ms/epoch - 4ms/step\n",
      "Epoch 9/20\n",
      "122/122 - 0s - loss: 2.8193e-04 - 453ms/epoch - 4ms/step\n",
      "Epoch 10/20\n",
      "122/122 - 0s - loss: 2.7051e-04 - 497ms/epoch - 4ms/step\n",
      "Epoch 11/20\n",
      "122/122 - 0s - loss: 2.6008e-04 - 496ms/epoch - 4ms/step\n",
      "Epoch 12/20\n",
      "122/122 - 0s - loss: 2.5208e-04 - 465ms/epoch - 4ms/step\n",
      "Epoch 13/20\n",
      "122/122 - 0s - loss: 2.4188e-04 - 455ms/epoch - 4ms/step\n",
      "Epoch 14/20\n",
      "122/122 - 0s - loss: 2.2698e-04 - 477ms/epoch - 4ms/step\n",
      "Epoch 15/20\n",
      "122/122 - 0s - loss: 2.2483e-04 - 466ms/epoch - 4ms/step\n",
      "Epoch 16/20\n",
      "122/122 - 1s - loss: 2.3342e-04 - 517ms/epoch - 4ms/step\n",
      "Epoch 17/20\n",
      "122/122 - 0s - loss: 2.0416e-04 - 474ms/epoch - 4ms/step\n",
      "Epoch 18/20\n",
      "122/122 - 0s - loss: 2.1830e-04 - 464ms/epoch - 4ms/step\n",
      "Epoch 19/20\n",
      "122/122 - 0s - loss: 2.1632e-04 - 470ms/epoch - 4ms/step\n",
      "Epoch 20/20\n",
      "122/122 - 0s - loss: 2.0350e-04 - 475ms/epoch - 4ms/step\n"
     ]
    },
    {
     "data": {
      "text/plain": [
       "<keras.src.callbacks.History at 0x2006680a290>"
      ]
     },
     "execution_count": 134,
     "metadata": {},
     "output_type": "execute_result"
    }
   ],
   "source": [
    "# epochs represent how many times model traning happens through whole dataset\n",
    "# batch_size represents number of examples considered in each iteration within epoch\n",
    "# in this we will have 1220/10 : 122 iterations\n",
    "model.fit(x_train, y_train, epochs=20, batch_size=10, verbose=2)"
   ]
  },
  {
   "cell_type": "code",
   "execution_count": 139,
   "id": "a8e80031",
   "metadata": {},
   "outputs": [],
   "source": [
    "# Few examples of time series evaluation\n",
    "def errors(prediction,actual): \n",
    "    mae = np.mean(np.abs(prediction - actual))\n",
    "    mape = np.mean(np.abs(prediction - actual)/np.abs(actual))*100\n",
    "    rmse = np.mean((prediction - actual)**2)**0.5\n",
    "    return({'mae':mae,'mape':mape,'rmse':rmse})"
   ]
  },
  {
   "cell_type": "code",
   "execution_count": 140,
   "id": "7cb6ac6e",
   "metadata": {},
   "outputs": [
    {
     "name": "stdout",
     "output_type": "stream",
     "text": [
      "39/39 [==============================] - 0s 2ms/step\n",
      "17/17 [==============================] - 0s 2ms/step\n"
     ]
    },
    {
     "data": {
      "text/plain": [
       "{'mae': 1.069218559316453,\n",
       " 'mape': 1.6959939518991372,\n",
       " 'rmse': 1.4327226542081368}"
      ]
     },
     "execution_count": 140,
     "metadata": {},
     "output_type": "execute_result"
    }
   ],
   "source": [
    "trainPredict = model.predict(x_train)\n",
    "testPredict = model.predict(x_test)\n",
    "\n",
    "\n",
    "# invert predictions and labels\n",
    "trainPredict = y_scaler.inverse_transform(trainPredict)\n",
    "trainY = y_scaler.inverse_transform([y_train])\n",
    "testPredict = y_scaler.inverse_transform(testPredict)\n",
    "testY = y_scaler.inverse_transform([y_test])\n",
    "\n",
    "errors(trainPredict[:,0],trainY[0])\n",
    "#errors(trainPredict[:,0],trainY[0]) - add on the test data as well\n",
    "\n",
    "# calculate root mean squared error\n",
    "#trainScore = math.sqrt(mean_squared_error(trainY[0], trainPredict[:,0]))\n",
    "#print('Train Score: %.2f RMSE' % (trainScore))\n",
    "#testScore = math.sqrt(mean_squared_error(testY[0], testPredict[:,0]))\n",
    "#print('Test Score: %.2f RMSE' % (testScore))"
   ]
  },
  {
   "cell_type": "code",
   "execution_count": null,
   "id": "9d0e1815",
   "metadata": {},
   "outputs": [],
   "source": [
    "# 1.69%\n",
    "# 0.1 %"
   ]
  },
  {
   "cell_type": "markdown",
   "id": "96a1f950",
   "metadata": {},
   "source": [
    "# Step 6: Visualization of predicted outut"
   ]
  },
  {
   "cell_type": "code",
   "execution_count": 141,
   "id": "826bb814",
   "metadata": {},
   "outputs": [
    {
     "data": {
      "image/png": "[encoded data removed]",
      "text/plain": [
       "<Figure size 640x480 with 1 Axes>"
      ]
     },
     "metadata": {},
     "output_type": "display_data"
    }
   ],
   "source": [
    "look_back = 15\n",
    "# shift train predictions for plotting\n",
    "trainPredictPlot = np.empty_like(y_scaled)\n",
    "trainPredictPlot[:, :] = np.nan\n",
    "trainPredictPlot[look_back:len(trainPredict)+look_back, :] = trainPredict\n",
    "# shift test predictions for plotting\n",
    "testPredictPlot = np.empty_like(y_scaled)\n",
    "testPredictPlot[:, :] = np.nan\n",
    "testPredictPlot[len(trainPredict)+(look_back*2)+1:len(dataset)-1, :] = testPredict\n",
    "# plot baseline and predictions\n",
    "#plt.plot(min_max_scaler.inverse_transform(dataset))\n",
    "plt.plot(df['close'])\n",
    "plt.plot(trainPredictPlot)\n",
    "plt.plot(testPredictPlot)\n",
    "plt.xticks(range(0, len(list(df.index)), 100), list(df.index)[::100], rotation=90)\n",
    "plt.show()"
   ]
  },
  {
   "cell_type": "code",
   "execution_count": null,
   "id": "50f0c16c",
   "metadata": {},
   "outputs": [],
   "source": []
  }
 ],
 "metadata": {
  "kernelspec": {
   "display_name": "Python 3 (ipykernel)",
   "language": "python",
   "name": "python3"
  },
  "language_info": {
   "codemirror_mode": {
    "name": "ipython",
    "version": 3
   },
   "file_extension": ".py",
   "mimetype": "text/x-python",
   "name": "python",
   "nbconvert_exporter": "python",
   "pygments_lexer": "ipython3",
   "version": "3.10.9"
  }
 },
 "nbformat": 4,
 "nbformat_minor": 5
}
